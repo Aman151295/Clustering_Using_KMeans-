{
  "nbformat": 4,
  "nbformat_minor": 0,
  "metadata": {
    "colab": {
      "name": "Untitled11.ipynb",
      "provenance": [],
      "authorship_tag": "ABX9TyOH28zaIBUQiyxiqaXC+qJw",
      "include_colab_link": true
    },
    "kernelspec": {
      "name": "python3",
      "display_name": "Python 3"
    },
    "language_info": {
      "name": "python"
    }
  },
  "cells": [
    {
      "cell_type": "markdown",
      "metadata": {
        "id": "view-in-github",
        "colab_type": "text"
      },
      "source": [
        "<a href=\"https://colab.research.google.com/github/Aman151295/Clustering_Using_KMeans-/blob/main/Crime%20Data%20analysis%20using%20KMeans.ipynb\" target=\"_parent\"><img src=\"https://colab.research.google.com/assets/colab-badge.svg\" alt=\"Open In Colab\"/></a>"
      ]
    },
    {
      "cell_type": "markdown",
      "source": [
        "# **KMeans clustering for Crime Dataset**"
      ],
      "metadata": {
        "id": "dOs_BdVjZy4f"
      }
    },
    {
      "cell_type": "code",
      "source": [
        "import pandas as pd\n",
        "import numpy as np\n",
        "import scipy \n",
        "from scipy import stats\n",
        "import matplotlib.pyplot as plt\n",
        "%matplotlib inline\n",
        "import seaborn as sns\n",
        "from sklearn.cluster import KMeans\n",
        "from sklearn.preprocessing import StandardScaler"
      ],
      "metadata": {
        "id": "fsXSkMrqZ7lH"
      },
      "execution_count": 55,
      "outputs": []
    },
    {
      "cell_type": "code",
      "source": [
        "#Importing the dataset\n",
        "\n",
        "US_Crime_Data =  pd.read_csv('/content/crime_data.csv')\n",
        "print(US_Crime_Data)"
      ],
      "metadata": {
        "colab": {
          "base_uri": "https://localhost:8080/"
        },
        "id": "QAzGK_aIaG3F",
        "outputId": "7cc4b1c9-11f6-4834-8b95-8c75e7482e64"
      },
      "execution_count": 56,
      "outputs": [
        {
          "output_type": "stream",
          "name": "stdout",
          "text": [
            "        Unnamed: 0  Murder  Assault  UrbanPop  Rape\n",
            "0          Alabama    13.2      236        58  21.2\n",
            "1           Alaska    10.0      263        48  44.5\n",
            "2          Arizona     8.1      294        80  31.0\n",
            "3         Arkansas     8.8      190        50  19.5\n",
            "4       California     9.0      276        91  40.6\n",
            "5         Colorado     7.9      204        78  38.7\n",
            "6      Connecticut     3.3      110        77  11.1\n",
            "7         Delaware     5.9      238        72  15.8\n",
            "8          Florida    15.4      335        80  31.9\n",
            "9          Georgia    17.4      211        60  25.8\n",
            "10          Hawaii     5.3       46        83  20.2\n",
            "11           Idaho     2.6      120        54  14.2\n",
            "12        Illinois    10.4      249        83  24.0\n",
            "13         Indiana     7.2      113        65  21.0\n",
            "14            Iowa     2.2       56        57  11.3\n",
            "15          Kansas     6.0      115        66  18.0\n",
            "16        Kentucky     9.7      109        52  16.3\n",
            "17       Louisiana    15.4      249        66  22.2\n",
            "18           Maine     2.1       83        51   7.8\n",
            "19        Maryland    11.3      300        67  27.8\n",
            "20   Massachusetts     4.4      149        85  16.3\n",
            "21        Michigan    12.1      255        74  35.1\n",
            "22       Minnesota     2.7       72        66  14.9\n",
            "23     Mississippi    16.1      259        44  17.1\n",
            "24        Missouri     9.0      178        70  28.2\n",
            "25         Montana     6.0      109        53  16.4\n",
            "26        Nebraska     4.3      102        62  16.5\n",
            "27          Nevada    12.2      252        81  46.0\n",
            "28   New Hampshire     2.1       57        56   9.5\n",
            "29      New Jersey     7.4      159        89  18.8\n",
            "30      New Mexico    11.4      285        70  32.1\n",
            "31        New York    11.1      254        86  26.1\n",
            "32  North Carolina    13.0      337        45  16.1\n",
            "33    North Dakota     0.8       45        44   7.3\n",
            "34            Ohio     7.3      120        75  21.4\n",
            "35        Oklahoma     6.6      151        68  20.0\n",
            "36          Oregon     4.9      159        67  29.3\n",
            "37    Pennsylvania     6.3      106        72  14.9\n",
            "38    Rhode Island     3.4      174        87   8.3\n",
            "39  South Carolina    14.4      279        48  22.5\n",
            "40    South Dakota     3.8       86        45  12.8\n",
            "41       Tennessee    13.2      188        59  26.9\n",
            "42           Texas    12.7      201        80  25.5\n",
            "43            Utah     3.2      120        80  22.9\n",
            "44         Vermont     2.2       48        32  11.2\n",
            "45        Virginia     8.5      156        63  20.7\n",
            "46      Washington     4.0      145        73  26.2\n",
            "47   West Virginia     5.7       81        39   9.3\n",
            "48       Wisconsin     2.6       53        66  10.8\n",
            "49         Wyoming     6.8      161        60  15.6\n"
          ]
        }
      ]
    },
    {
      "cell_type": "code",
      "source": [
        "US_Crime_Data.info()"
      ],
      "metadata": {
        "colab": {
          "base_uri": "https://localhost:8080/"
        },
        "id": "POBJOfT6aet9",
        "outputId": "0c17f5e6-343e-4524-88cf-45584bdbbae5"
      },
      "execution_count": 57,
      "outputs": [
        {
          "output_type": "stream",
          "name": "stdout",
          "text": [
            "<class 'pandas.core.frame.DataFrame'>\n",
            "RangeIndex: 50 entries, 0 to 49\n",
            "Data columns (total 5 columns):\n",
            " #   Column      Non-Null Count  Dtype  \n",
            "---  ------      --------------  -----  \n",
            " 0   Unnamed: 0  50 non-null     object \n",
            " 1   Murder      50 non-null     float64\n",
            " 2   Assault     50 non-null     int64  \n",
            " 3   UrbanPop    50 non-null     int64  \n",
            " 4   Rape        50 non-null     float64\n",
            "dtypes: float64(2), int64(2), object(1)\n",
            "memory usage: 2.1+ KB\n"
          ]
        }
      ]
    },
    {
      "cell_type": "code",
      "source": [
        "# Normalising the data\n",
        "\n",
        "Scaler = StandardScaler()\n",
        "\n",
        "\n",
        "Crime_Scaled_Data = Scaler.fit_transform(US_Crime_Data.iloc[:,1:])\n",
        "\n",
        "print(Crime_Scaled_Data)\n"
      ],
      "metadata": {
        "colab": {
          "base_uri": "https://localhost:8080/"
        },
        "id": "ezS3tLlqal1G",
        "outputId": "cb0dfbb8-e679-4843-a123-11134e1b2388"
      },
      "execution_count": 58,
      "outputs": [
        {
          "output_type": "stream",
          "name": "stdout",
          "text": [
            "[[ 1.25517927  0.79078716 -0.52619514 -0.00345116]\n",
            " [ 0.51301858  1.11805959 -1.22406668  2.50942392]\n",
            " [ 0.07236067  1.49381682  1.00912225  1.05346626]\n",
            " [ 0.23470832  0.23321191 -1.08449238 -0.18679398]\n",
            " [ 0.28109336  1.2756352   1.77678094  2.08881393]\n",
            " [ 0.02597562  0.40290872  0.86954794  1.88390137]\n",
            " [-1.04088037 -0.73648418  0.79976079 -1.09272319]\n",
            " [-0.43787481  0.81502956  0.45082502 -0.58583422]\n",
            " [ 1.76541475  1.99078607  1.00912225  1.1505301 ]\n",
            " [ 2.22926518  0.48775713 -0.38662083  0.49265293]\n",
            " [-0.57702994 -1.51224105  1.21848371 -0.11129987]\n",
            " [-1.20322802 -0.61527217 -0.80534376 -0.75839217]\n",
            " [ 0.60578867  0.94836277  1.21848371  0.29852525]\n",
            " [-0.13637203 -0.70012057 -0.03768506 -0.0250209 ]\n",
            " [-1.29599811 -1.39102904 -0.5959823  -1.07115345]\n",
            " [-0.41468229 -0.67587817  0.03210209 -0.34856705]\n",
            " [ 0.44344101 -0.74860538 -0.94491807 -0.53190987]\n",
            " [ 1.76541475  0.94836277  0.03210209  0.10439756]\n",
            " [-1.31919063 -1.06375661 -1.01470522 -1.44862395]\n",
            " [ 0.81452136  1.56654403  0.10188925  0.70835037]\n",
            " [-0.78576263 -0.26375734  1.35805802 -0.53190987]\n",
            " [ 1.00006153  1.02108998  0.59039932  1.49564599]\n",
            " [-1.1800355  -1.19708982  0.03210209 -0.68289807]\n",
            " [ 1.9277624   1.06957478 -1.5032153  -0.44563089]\n",
            " [ 0.28109336  0.0877575   0.31125071  0.75148985]\n",
            " [-0.41468229 -0.74860538 -0.87513091 -0.521125  ]\n",
            " [-0.80895515 -0.83345379 -0.24704653 -0.51034012]\n",
            " [ 1.02325405  0.98472638  1.0789094   2.671197  ]\n",
            " [-1.31919063 -1.37890783 -0.66576945 -1.26528114]\n",
            " [-0.08998698 -0.14254532  1.63720664 -0.26228808]\n",
            " [ 0.83771388  1.38472601  0.31125071  1.17209984]\n",
            " [ 0.76813632  1.00896878  1.42784517  0.52500755]\n",
            " [ 1.20879423  2.01502847 -1.43342815 -0.55347961]\n",
            " [-1.62069341 -1.52436225 -1.5032153  -1.50254831]\n",
            " [-0.11317951 -0.61527217  0.66018648  0.01811858]\n",
            " [-0.27552716 -0.23951493  0.1716764  -0.13286962]\n",
            " [-0.66980002 -0.14254532  0.10188925  0.87012344]\n",
            " [-0.34510472 -0.78496898  0.45082502 -0.68289807]\n",
            " [-1.01768785  0.03927269  1.49763233 -1.39469959]\n",
            " [ 1.53348953  1.3119988  -1.22406668  0.13675217]\n",
            " [-0.92491776 -1.027393   -1.43342815 -0.90938037]\n",
            " [ 1.25517927  0.20896951 -0.45640799  0.61128652]\n",
            " [ 1.13921666  0.36654512  1.00912225  0.46029832]\n",
            " [-1.06407289 -0.61527217  1.00912225  0.17989166]\n",
            " [-1.29599811 -1.48799864 -2.34066115 -1.08193832]\n",
            " [ 0.16513075 -0.17890893 -0.17725937 -0.05737552]\n",
            " [-0.87853272 -0.31224214  0.52061217  0.53579242]\n",
            " [-0.48425985 -1.08799901 -1.85215107 -1.28685088]\n",
            " [-1.20322802 -1.42739264  0.03210209 -1.1250778 ]\n",
            " [-0.22914211 -0.11830292 -0.38662083 -0.60740397]]\n"
          ]
        }
      ]
    },
    {
      "cell_type": "code",
      "source": [
        "# Use Elbow Graph to find optimum number of  clusters (K value) from K values range\n",
        "# The K-means algorithm aims to choose centroids that minimise the inertia, or within-cluster sum-of-squares criterion WCSS \n",
        "\n",
        "\n",
        "AVGDT = []\n",
        "\n",
        "for i in range (1,9):\n",
        "  kmeans = KMeans(n_clusters = i, random_state = 0)\n",
        "  kmeans.fit(Crime_Scaled_Data)\n",
        "  AVGDT.append(kmeans.inertia_)\n",
        "\n",
        "\n",
        "plt.plot(range(1,9), AVGDT)\n",
        "plt.title('Elbow Graph')\n",
        "plt.xlabel('Number of clusters')\n",
        "plt.ylabel('AVGDT')\n",
        "plt.show()"
      ],
      "metadata": {
        "colab": {
          "base_uri": "https://localhost:8080/",
          "height": 295
        },
        "id": "mAg53zm-a9yG",
        "outputId": "7c6e48c8-e855-4a20-a618-27977289a762"
      },
      "execution_count": 59,
      "outputs": [
        {
          "output_type": "display_data",
          "data": {
            "image/png": "[encoded data removed]",
            "text/plain": [
              "<Figure size 432x288 with 1 Axes>"
            ]
          },
          "metadata": {
            "needs_background": "light"
          }
        }
      ]
    },
    {
      "cell_type": "code",
      "source": [
        "# Build Cluster algorithm using K=4\n",
        "\n",
        "Cluster_4 = KMeans(4, random_state = 0)\n",
        "Cluster_4.fit(Crime_Scaled_Data)"
      ],
      "metadata": {
        "colab": {
          "base_uri": "https://localhost:8080/"
        },
        "id": "sqmnXMlebcZO",
        "outputId": "9c484984-2746-4fd3-be44-99c92b61e56b"
      },
      "execution_count": 60,
      "outputs": [
        {
          "output_type": "execute_result",
          "data": {
            "text/plain": [
              "KMeans(n_clusters=4, random_state=0)"
            ]
          },
          "metadata": {},
          "execution_count": 60
        }
      ]
    },
    {
      "cell_type": "code",
      "source": [
        "#Lables for Cluster\n",
        "Cluster_4.labels_\n",
        "\n",
        "\n",
        "# Adding a cluster column in Original DataFrame\n",
        "\n",
        "US_Crime_Data['Cluster no'] = Cluster_4.labels_\n",
        "\n",
        "\n",
        "# Check the no of records associated to each cluster based on Similarity\n",
        "\n",
        "US_Crime_Data['Cluster no'].value_counts()"
      ],
      "metadata": {
        "colab": {
          "base_uri": "https://localhost:8080/"
        },
        "id": "u47Iq9iZcPud",
        "outputId": "8046a6d0-446e-4301-ff47-460cf7296971"
      },
      "execution_count": 61,
      "outputs": [
        {
          "output_type": "execute_result",
          "data": {
            "text/plain": [
              "0    16\n",
              "1    13\n",
              "2    13\n",
              "3     8\n",
              "Name: Cluster no, dtype: int64"
            ]
          },
          "metadata": {},
          "execution_count": 61
        }
      ]
    },
    {
      "cell_type": "code",
      "source": [
        "# Group data by Clusters (K=5)\n",
        "\n",
        "US_Crime_Data.groupby('Cluster no').agg(['mean']).reset_index()"
      ],
      "metadata": {
        "colab": {
          "base_uri": "https://localhost:8080/",
          "height": 206
        },
        "id": "ij4e6qqdcyZ2",
        "outputId": "54172274-4b5a-4a31-ca08-5d9b80eaaed8"
      },
      "execution_count": 62,
      "outputs": [
        {
          "output_type": "execute_result",
          "data": {
            "text/html": [
              "\n",
              "  <div id=\"df-530970e0-e400-41e7-b026-d4a26e37571d\">\n",
              "    <div class=\"colab-df-container\">\n",
              "      <div>\n",
              "<style scoped>\n",
              "    .dataframe tbody tr th:only-of-type {\n",
              "        vertical-align: middle;\n",
              "    }\n",
              "\n",
              "    .dataframe tbody tr th {\n",
              "        vertical-align: top;\n",
              "    }\n",
              "\n",
              "    .dataframe thead tr th {\n",
              "        text-align: left;\n",
              "    }\n",
              "</style>\n",
              "<table border=\"1\" class=\"dataframe\">\n",
              "  <thead>\n",
              "    <tr>\n",
              "      <th></th>\n",
              "      <th>Cluster no</th>\n",
              "      <th>Murder</th>\n",
              "      <th>Assault</th>\n",
              "      <th>UrbanPop</th>\n",
              "      <th>Rape</th>\n",
              "    </tr>\n",
              "    <tr>\n",
              "      <th></th>\n",
              "      <th></th>\n",
              "      <th>mean</th>\n",
              "      <th>mean</th>\n",
              "      <th>mean</th>\n",
              "      <th>mean</th>\n",
              "    </tr>\n",
              "  </thead>\n",
              "  <tbody>\n",
              "    <tr>\n",
              "      <th>0</th>\n",
              "      <td>0</td>\n",
              "      <td>5.656250</td>\n",
              "      <td>138.875000</td>\n",
              "      <td>73.875000</td>\n",
              "      <td>18.781250</td>\n",
              "    </tr>\n",
              "    <tr>\n",
              "      <th>1</th>\n",
              "      <td>1</td>\n",
              "      <td>10.815385</td>\n",
              "      <td>257.384615</td>\n",
              "      <td>76.000000</td>\n",
              "      <td>33.192308</td>\n",
              "    </tr>\n",
              "    <tr>\n",
              "      <th>2</th>\n",
              "      <td>2</td>\n",
              "      <td>3.600000</td>\n",
              "      <td>78.538462</td>\n",
              "      <td>52.076923</td>\n",
              "      <td>12.176923</td>\n",
              "    </tr>\n",
              "    <tr>\n",
              "      <th>3</th>\n",
              "      <td>3</td>\n",
              "      <td>13.937500</td>\n",
              "      <td>243.625000</td>\n",
              "      <td>53.750000</td>\n",
              "      <td>21.412500</td>\n",
              "    </tr>\n",
              "  </tbody>\n",
              "</table>\n",
              "</div>\n",
              "      <button class=\"colab-df-convert\" onclick=\"convertToInteractive('df-530970e0-e400-41e7-b026-d4a26e37571d')\"\n",
              "              title=\"Convert this dataframe to an interactive table.\"\n",
              "              style=\"display:none;\">\n",
              "        \n",
              "  <svg xmlns=\"http://www.w3.org/2000/svg\" height=\"24px\"viewBox=\"0 0 24 24\"\n",
              "       width=\"24px\">\n",
              "    <path d=\"M0 0h24v24H0V0z\" fill=\"none\"/>\n",
              "    <path d=\"M18.56 5.44l.94 2.06.94-2.06 2.06-.94-2.06-.94-.94-2.06-.94 2.06-2.06.94zm-11 1L8.5 8.5l.94-2.06 2.06-.94-2.06-.94L8.5 2.5l-.94 2.06-2.06.94zm10 10l.94 2.06.94-2.06 2.06-.94-2.06-.94-.94-2.06-.94 2.06-2.06.94z\"/><path d=\"M17.41 7.96l-1.37-1.37c-.4-.4-.92-.59-1.43-.59-.52 0-1.04.2-1.43.59L10.3 9.45l-7.72 7.72c-.78.78-.78 2.05 0 2.83L4 21.41c.39.39.9.59 1.41.59.51 0 1.02-.2 1.41-.59l7.78-7.78 2.81-2.81c.8-.78.8-2.07 0-2.86zM5.41 20L4 18.59l7.72-7.72 1.47 1.35L5.41 20z\"/>\n",
              "  </svg>\n",
              "      </button>\n",
              "      \n",
              "  <style>\n",
              "    .colab-df-container {\n",
              "      display:flex;\n",
              "      flex-wrap:wrap;\n",
              "      gap: 12px;\n",
              "    }\n",
              "\n",
              "    .colab-df-convert {\n",
              "      background-color: #E8F0FE;\n",
              "      border: none;\n",
              "      border-radius: 50%;\n",
              "      cursor: pointer;\n",
              "      display: none;\n",
              "      fill: #1967D2;\n",
              "      height: 32px;\n",
              "      padding: 0 0 0 0;\n",
              "      width: 32px;\n",
              "    }\n",
              "\n",
              "    .colab-df-convert:hover {\n",
              "      background-color: #E2EBFA;\n",
              "      box-shadow: 0px 1px 2px rgba(60, 64, 67, 0.3), 0px 1px 3px 1px rgba(60, 64, 67, 0.15);\n",
              "      fill: #174EA6;\n",
              "    }\n",
              "\n",
              "    [theme=dark] .colab-df-convert {\n",
              "      background-color: #3B4455;\n",
              "      fill: #D2E3FC;\n",
              "    }\n",
              "\n",
              "    [theme=dark] .colab-df-convert:hover {\n",
              "      background-color: #434B5C;\n",
              "      box-shadow: 0px 1px 3px 1px rgba(0, 0, 0, 0.15);\n",
              "      filter: drop-shadow(0px 1px 2px rgba(0, 0, 0, 0.3));\n",
              "      fill: #FFFFFF;\n",
              "    }\n",
              "  </style>\n",
              "\n",
              "      <script>\n",
              "        const buttonEl =\n",
              "          document.querySelector('#df-530970e0-e400-41e7-b026-d4a26e37571d button.colab-df-convert');\n",
              "        buttonEl.style.display =\n",
              "          google.colab.kernel.accessAllowed ? 'block' : 'none';\n",
              "\n",
              "        async function convertToInteractive(key) {\n",
              "          const element = document.querySelector('#df-530970e0-e400-41e7-b026-d4a26e37571d');\n",
              "          const dataTable =\n",
              "            await google.colab.kernel.invokeFunction('convertToInteractive',\n",
              "                                                     [key], {});\n",
              "          if (!dataTable) return;\n",
              "\n",
              "          const docLinkHtml = 'Like what you see? Visit the ' +\n",
              "            '<a target=\"_blank\" href=https://colab.research.google.com/notebooks/data_table.ipynb>data table notebook</a>'\n",
              "            + ' to learn more about interactive tables.';\n",
              "          element.innerHTML = '';\n",
              "          dataTable['output_type'] = 'display_data';\n",
              "          await google.colab.output.renderOutput(dataTable, element);\n",
              "          const docLink = document.createElement('div');\n",
              "          docLink.innerHTML = docLinkHtml;\n",
              "          element.appendChild(docLink);\n",
              "        }\n",
              "      </script>\n",
              "    </div>\n",
              "  </div>\n",
              "  "
            ],
            "text/plain": [
              "  Cluster no     Murder     Assault   UrbanPop       Rape\n",
              "                   mean        mean       mean       mean\n",
              "0          0   5.656250  138.875000  73.875000  18.781250\n",
              "1          1  10.815385  257.384615  76.000000  33.192308\n",
              "2          2   3.600000   78.538462  52.076923  12.176923\n",
              "3          3  13.937500  243.625000  53.750000  21.412500"
            ]
          },
          "metadata": {},
          "execution_count": 62
        }
      ]
    },
    {
      "cell_type": "code",
      "source": [
        "US_Crime_Data = US_Crime_Data.rename(columns = {'Unnamed: 0' : 'USplaces'})\n"
      ],
      "metadata": {
        "id": "mPBTxzWJdJNV"
      },
      "execution_count": 63,
      "outputs": []
    },
    {
      "cell_type": "code",
      "source": [
        "US_Crime_Data.loc[(US_Crime_Data['Cluster no'] == 1)]"
      ],
      "metadata": {
        "colab": {
          "base_uri": "https://localhost:8080/",
          "height": 457
        },
        "id": "JpR8jjA7eCYG",
        "outputId": "2a1a396c-c4f5-45d3-a4ea-6af0aa28f179"
      },
      "execution_count": 64,
      "outputs": [
        {
          "output_type": "execute_result",
          "data": {
            "text/html": [
              "\n",
              "  <div id=\"df-5e5b8cdc-8b0d-48f9-b80b-6bf27ae58e6f\">\n",
              "    <div class=\"colab-df-container\">\n",
              "      <div>\n",
              "<style scoped>\n",
              "    .dataframe tbody tr th:only-of-type {\n",
              "        vertical-align: middle;\n",
              "    }\n",
              "\n",
              "    .dataframe tbody tr th {\n",
              "        vertical-align: top;\n",
              "    }\n",
              "\n",
              "    .dataframe thead th {\n",
              "        text-align: right;\n",
              "    }\n",
              "</style>\n",
              "<table border=\"1\" class=\"dataframe\">\n",
              "  <thead>\n",
              "    <tr style=\"text-align: right;\">\n",
              "      <th></th>\n",
              "      <th>USplaces</th>\n",
              "      <th>Murder</th>\n",
              "      <th>Assault</th>\n",
              "      <th>UrbanPop</th>\n",
              "      <th>Rape</th>\n",
              "      <th>Cluster no</th>\n",
              "    </tr>\n",
              "  </thead>\n",
              "  <tbody>\n",
              "    <tr>\n",
              "      <th>1</th>\n",
              "      <td>Alaska</td>\n",
              "      <td>10.0</td>\n",
              "      <td>263</td>\n",
              "      <td>48</td>\n",
              "      <td>44.5</td>\n",
              "      <td>1</td>\n",
              "    </tr>\n",
              "    <tr>\n",
              "      <th>2</th>\n",
              "      <td>Arizona</td>\n",
              "      <td>8.1</td>\n",
              "      <td>294</td>\n",
              "      <td>80</td>\n",
              "      <td>31.0</td>\n",
              "      <td>1</td>\n",
              "    </tr>\n",
              "    <tr>\n",
              "      <th>4</th>\n",
              "      <td>California</td>\n",
              "      <td>9.0</td>\n",
              "      <td>276</td>\n",
              "      <td>91</td>\n",
              "      <td>40.6</td>\n",
              "      <td>1</td>\n",
              "    </tr>\n",
              "    <tr>\n",
              "      <th>5</th>\n",
              "      <td>Colorado</td>\n",
              "      <td>7.9</td>\n",
              "      <td>204</td>\n",
              "      <td>78</td>\n",
              "      <td>38.7</td>\n",
              "      <td>1</td>\n",
              "    </tr>\n",
              "    <tr>\n",
              "      <th>8</th>\n",
              "      <td>Florida</td>\n",
              "      <td>15.4</td>\n",
              "      <td>335</td>\n",
              "      <td>80</td>\n",
              "      <td>31.9</td>\n",
              "      <td>1</td>\n",
              "    </tr>\n",
              "    <tr>\n",
              "      <th>12</th>\n",
              "      <td>Illinois</td>\n",
              "      <td>10.4</td>\n",
              "      <td>249</td>\n",
              "      <td>83</td>\n",
              "      <td>24.0</td>\n",
              "      <td>1</td>\n",
              "    </tr>\n",
              "    <tr>\n",
              "      <th>19</th>\n",
              "      <td>Maryland</td>\n",
              "      <td>11.3</td>\n",
              "      <td>300</td>\n",
              "      <td>67</td>\n",
              "      <td>27.8</td>\n",
              "      <td>1</td>\n",
              "    </tr>\n",
              "    <tr>\n",
              "      <th>21</th>\n",
              "      <td>Michigan</td>\n",
              "      <td>12.1</td>\n",
              "      <td>255</td>\n",
              "      <td>74</td>\n",
              "      <td>35.1</td>\n",
              "      <td>1</td>\n",
              "    </tr>\n",
              "    <tr>\n",
              "      <th>24</th>\n",
              "      <td>Missouri</td>\n",
              "      <td>9.0</td>\n",
              "      <td>178</td>\n",
              "      <td>70</td>\n",
              "      <td>28.2</td>\n",
              "      <td>1</td>\n",
              "    </tr>\n",
              "    <tr>\n",
              "      <th>27</th>\n",
              "      <td>Nevada</td>\n",
              "      <td>12.2</td>\n",
              "      <td>252</td>\n",
              "      <td>81</td>\n",
              "      <td>46.0</td>\n",
              "      <td>1</td>\n",
              "    </tr>\n",
              "    <tr>\n",
              "      <th>30</th>\n",
              "      <td>New Mexico</td>\n",
              "      <td>11.4</td>\n",
              "      <td>285</td>\n",
              "      <td>70</td>\n",
              "      <td>32.1</td>\n",
              "      <td>1</td>\n",
              "    </tr>\n",
              "    <tr>\n",
              "      <th>31</th>\n",
              "      <td>New York</td>\n",
              "      <td>11.1</td>\n",
              "      <td>254</td>\n",
              "      <td>86</td>\n",
              "      <td>26.1</td>\n",
              "      <td>1</td>\n",
              "    </tr>\n",
              "    <tr>\n",
              "      <th>42</th>\n",
              "      <td>Texas</td>\n",
              "      <td>12.7</td>\n",
              "      <td>201</td>\n",
              "      <td>80</td>\n",
              "      <td>25.5</td>\n",
              "      <td>1</td>\n",
              "    </tr>\n",
              "  </tbody>\n",
              "</table>\n",
              "</div>\n",
              "      <button class=\"colab-df-convert\" onclick=\"convertToInteractive('df-5e5b8cdc-8b0d-48f9-b80b-6bf27ae58e6f')\"\n",
              "              title=\"Convert this dataframe to an interactive table.\"\n",
              "              style=\"display:none;\">\n",
              "        \n",
              "  <svg xmlns=\"http://www.w3.org/2000/svg\" height=\"24px\"viewBox=\"0 0 24 24\"\n",
              "       width=\"24px\">\n",
              "    <path d=\"M0 0h24v24H0V0z\" fill=\"none\"/>\n",
              "    <path d=\"M18.56 5.44l.94 2.06.94-2.06 2.06-.94-2.06-.94-.94-2.06-.94 2.06-2.06.94zm-11 1L8.5 8.5l.94-2.06 2.06-.94-2.06-.94L8.5 2.5l-.94 2.06-2.06.94zm10 10l.94 2.06.94-2.06 2.06-.94-2.06-.94-.94-2.06-.94 2.06-2.06.94z\"/><path d=\"M17.41 7.96l-1.37-1.37c-.4-.4-.92-.59-1.43-.59-.52 0-1.04.2-1.43.59L10.3 9.45l-7.72 7.72c-.78.78-.78 2.05 0 2.83L4 21.41c.39.39.9.59 1.41.59.51 0 1.02-.2 1.41-.59l7.78-7.78 2.81-2.81c.8-.78.8-2.07 0-2.86zM5.41 20L4 18.59l7.72-7.72 1.47 1.35L5.41 20z\"/>\n",
              "  </svg>\n",
              "      </button>\n",
              "      \n",
              "  <style>\n",
              "    .colab-df-container {\n",
              "      display:flex;\n",
              "      flex-wrap:wrap;\n",
              "      gap: 12px;\n",
              "    }\n",
              "\n",
              "    .colab-df-convert {\n",
              "      background-color: #E8F0FE;\n",
              "      border: none;\n",
              "      border-radius: 50%;\n",
              "      cursor: pointer;\n",
              "      display: none;\n",
              "      fill: #1967D2;\n",
              "      height: 32px;\n",
              "      padding: 0 0 0 0;\n",
              "      width: 32px;\n",
              "    }\n",
              "\n",
              "    .colab-df-convert:hover {\n",
              "      background-color: #E2EBFA;\n",
              "      box-shadow: 0px 1px 2px rgba(60, 64, 67, 0.3), 0px 1px 3px 1px rgba(60, 64, 67, 0.15);\n",
              "      fill: #174EA6;\n",
              "    }\n",
              "\n",
              "    [theme=dark] .colab-df-convert {\n",
              "      background-color: #3B4455;\n",
              "      fill: #D2E3FC;\n",
              "    }\n",
              "\n",
              "    [theme=dark] .colab-df-convert:hover {\n",
              "      background-color: #434B5C;\n",
              "      box-shadow: 0px 1px 3px 1px rgba(0, 0, 0, 0.15);\n",
              "      filter: drop-shadow(0px 1px 2px rgba(0, 0, 0, 0.3));\n",
              "      fill: #FFFFFF;\n",
              "    }\n",
              "  </style>\n",
              "\n",
              "      <script>\n",
              "        const buttonEl =\n",
              "          document.querySelector('#df-5e5b8cdc-8b0d-48f9-b80b-6bf27ae58e6f button.colab-df-convert');\n",
              "        buttonEl.style.display =\n",
              "          google.colab.kernel.accessAllowed ? 'block' : 'none';\n",
              "\n",
              "        async function convertToInteractive(key) {\n",
              "          const element = document.querySelector('#df-5e5b8cdc-8b0d-48f9-b80b-6bf27ae58e6f');\n",
              "          const dataTable =\n",
              "            await google.colab.kernel.invokeFunction('convertToInteractive',\n",
              "                                                     [key], {});\n",
              "          if (!dataTable) return;\n",
              "\n",
              "          const docLinkHtml = 'Like what you see? Visit the ' +\n",
              "            '<a target=\"_blank\" href=https://colab.research.google.com/notebooks/data_table.ipynb>data table notebook</a>'\n",
              "            + ' to learn more about interactive tables.';\n",
              "          element.innerHTML = '';\n",
              "          dataTable['output_type'] = 'display_data';\n",
              "          await google.colab.output.renderOutput(dataTable, element);\n",
              "          const docLink = document.createElement('div');\n",
              "          docLink.innerHTML = docLinkHtml;\n",
              "          element.appendChild(docLink);\n",
              "        }\n",
              "      </script>\n",
              "    </div>\n",
              "  </div>\n",
              "  "
            ],
            "text/plain": [
              "      USplaces  Murder  Assault  UrbanPop  Rape  Cluster no\n",
              "1       Alaska    10.0      263        48  44.5           1\n",
              "2      Arizona     8.1      294        80  31.0           1\n",
              "4   California     9.0      276        91  40.6           1\n",
              "5     Colorado     7.9      204        78  38.7           1\n",
              "8      Florida    15.4      335        80  31.9           1\n",
              "12    Illinois    10.4      249        83  24.0           1\n",
              "19    Maryland    11.3      300        67  27.8           1\n",
              "21    Michigan    12.1      255        74  35.1           1\n",
              "24    Missouri     9.0      178        70  28.2           1\n",
              "27      Nevada    12.2      252        81  46.0           1\n",
              "30  New Mexico    11.4      285        70  32.1           1\n",
              "31    New York    11.1      254        86  26.1           1\n",
              "42       Texas    12.7      201        80  25.5           1"
            ]
          },
          "metadata": {},
          "execution_count": 64
        }
      ]
    },
    {
      "cell_type": "code",
      "source": [
        "US_Crime_Data['USplaces'] [US_Crime_Data['Cluster no'] == 0 ]\n",
        "\n",
        "\n"
      ],
      "metadata": {
        "colab": {
          "base_uri": "https://localhost:8080/"
        },
        "id": "zWCyt-7thl9o",
        "outputId": "96a3e9f4-0dd4-456e-9e16-8adc7918d75f"
      },
      "execution_count": 74,
      "outputs": [
        {
          "output_type": "execute_result",
          "data": {
            "text/plain": [
              "6       Connecticut\n",
              "7          Delaware\n",
              "10           Hawaii\n",
              "13          Indiana\n",
              "15           Kansas\n",
              "20    Massachusetts\n",
              "29       New Jersey\n",
              "34             Ohio\n",
              "35         Oklahoma\n",
              "36           Oregon\n",
              "37     Pennsylvania\n",
              "38     Rhode Island\n",
              "43             Utah\n",
              "45         Virginia\n",
              "46       Washington\n",
              "49          Wyoming\n",
              "Name: USplaces, dtype: object"
            ]
          },
          "metadata": {},
          "execution_count": 74
        }
      ]
    },
    {
      "cell_type": "code",
      "source": [
        "US_Crime_Data['USplaces'] [US_Crime_Data['Cluster no'] == 1 ]"
      ],
      "metadata": {
        "colab": {
          "base_uri": "https://localhost:8080/"
        },
        "id": "_SSnSNhuNx8u",
        "outputId": "40643f3e-220c-448e-9296-51d68fbcb4d5"
      },
      "execution_count": 75,
      "outputs": [
        {
          "output_type": "execute_result",
          "data": {
            "text/plain": [
              "1         Alaska\n",
              "2        Arizona\n",
              "4     California\n",
              "5       Colorado\n",
              "8        Florida\n",
              "12      Illinois\n",
              "19      Maryland\n",
              "21      Michigan\n",
              "24      Missouri\n",
              "27        Nevada\n",
              "30    New Mexico\n",
              "31      New York\n",
              "42         Texas\n",
              "Name: USplaces, dtype: object"
            ]
          },
          "metadata": {},
          "execution_count": 75
        }
      ]
    },
    {
      "cell_type": "code",
      "source": [
        "US_Crime_Data['USplaces'] [US_Crime_Data['Cluster no'] == 2 ]"
      ],
      "metadata": {
        "colab": {
          "base_uri": "https://localhost:8080/"
        },
        "id": "INdn2b4lNz18",
        "outputId": "ba2236de-d553-49b4-99f7-38c5f02bfa79"
      },
      "execution_count": 76,
      "outputs": [
        {
          "output_type": "execute_result",
          "data": {
            "text/plain": [
              "11            Idaho\n",
              "14             Iowa\n",
              "16         Kentucky\n",
              "18            Maine\n",
              "22        Minnesota\n",
              "25          Montana\n",
              "26         Nebraska\n",
              "28    New Hampshire\n",
              "33     North Dakota\n",
              "40     South Dakota\n",
              "44          Vermont\n",
              "47    West Virginia\n",
              "48        Wisconsin\n",
              "Name: USplaces, dtype: object"
            ]
          },
          "metadata": {},
          "execution_count": 76
        }
      ]
    },
    {
      "cell_type": "code",
      "source": [
        "US_Crime_Data['USplaces'] [US_Crime_Data['Cluster no'] == 3]"
      ],
      "metadata": {
        "colab": {
          "base_uri": "https://localhost:8080/"
        },
        "id": "vL-_2uHuN1WW",
        "outputId": "0ed388f7-28aa-4cfb-8e2a-821d12f2d34d"
      },
      "execution_count": 77,
      "outputs": [
        {
          "output_type": "execute_result",
          "data": {
            "text/plain": [
              "0            Alabama\n",
              "3           Arkansas\n",
              "9            Georgia\n",
              "17         Louisiana\n",
              "23       Mississippi\n",
              "32    North Carolina\n",
              "39    South Carolina\n",
              "41         Tennessee\n",
              "Name: USplaces, dtype: object"
            ]
          },
          "metadata": {},
          "execution_count": 77
        }
      ]
    }
  ]
}